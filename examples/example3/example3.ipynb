{
 "cells": [
  {
   "cell_type": "markdown",
   "id": "081e055a-c9b8-4590-9dc3-5a9adc9067c2",
   "metadata": {},
   "source": [
    "# Example 3 -- Fe4S4-BDT MOFs"
   ]
  },
  {
   "cell_type": "code",
   "execution_count": null,
   "id": "a06a1782-5a54-40c0-985c-15044c4940b1",
   "metadata": {},
   "outputs": [],
   "source": [
    "### Dirty way to import the scripts\n",
    "import sys\n",
    "import os\n",
    "import glob\n",
    "parent_dir = os.path.abspath('../../')\n",
    "sys.path.append(parent_dir)\n",
    "\n",
    "from build_mof import *\n",
    "from write_mol import *\n",
    "from equilibration import *\n",
    "from free_energy import *\n",
    "from utils import *\n",
    "import subprocess"
   ]
  },
  {
   "cell_type": "code",
   "execution_count": null,
   "id": "16073292-ab54-4b97-a5f1-8b2ad7689373",
   "metadata": {
    "scrolled": true
   },
   "outputs": [],
   "source": [
    "# Visualization Purpose\n",
    "!{sys.executable} -m pip install py3Dmol\n",
    "!{sys.executable} -m pip install nglview\n"
   ]
  },
  {
   "cell_type": "code",
   "execution_count": null,
   "id": "d1297501-8b74-4f28-8e5d-3e1e0985070e",
   "metadata": {},
   "outputs": [],
   "source": [
    "import py3Dmol\n",
    "from ase.io import read\n",
    "from ase.visualize import view\n",
    "\n",
    "import nglview as nv\n",
    "\n",
    "def visualize_cif(cif_file):\n",
    "    atoms = read(cif_file)\n",
    "    view = nv.show_ase(atoms)\n",
    "    view\n",
    "    \n",
    "def visualize_xyz(xyz_file):\n",
    "    with open(xyz_file, 'r') as f:\n",
    "        xyz_data = f.read()\n",
    "\n",
    "    viewer = py3Dmol.view(width=200, height=200)\n",
    "    viewer.addModel(xyz_data, \"xyz\")\n",
    "    viewer.setStyle({\"sphere\": {}})\n",
    "    viewer.zoomTo()\n",
    "    return viewer.show()\n"
   ]
  },
  {
   "cell_type": "code",
   "execution_count": null,
   "id": "2d2fe839-db17-4886-8760-25fe2771f296",
   "metadata": {},
   "outputs": [],
   "source": [
    "# List the linker and nodes\n",
    "!ls"
   ]
  },
  {
   "cell_type": "code",
   "execution_count": null,
   "id": "b1f43a44-923f-4642-a0bc-f23361f62a63",
   "metadata": {},
   "outputs": [],
   "source": [
    "visualize_xyz('2c_B_S.xyz')"
   ]
  },
  {
   "cell_type": "code",
   "execution_count": null,
   "id": "411acd08-6d49-48f2-bf64-4c4b8313e68c",
   "metadata": {},
   "outputs": [],
   "source": [
    "visualize_xyz('4c_FeS.xyz')"
   ]
  },
  {
   "cell_type": "markdown",
   "id": "882f812e-03dc-468c-8aeb-9c3c6db9a0b0",
   "metadata": {},
   "source": [
    "### Now we generate MOFs"
   ]
  },
  {
   "cell_type": "code",
   "execution_count": null,
   "id": "18d803bf-b1ca-42ad-8899-63a209436988",
   "metadata": {},
   "outputs": [],
   "source": [
    "linker = '2c_B_S'\n",
    "node = '4c_FeS'\n",
    "topos='sow'\n",
    "cation = 'TMA'\n",
    "forcefield = 'UFF'\n",
    "replication = '1x1x1' ## increase replications in real simulations\n",
    "\n",
    "out_dir = f'{topos}-{node}-{linker}'"
   ]
  },
  {
   "cell_type": "code",
   "execution_count": null,
   "id": "e84e11c8-6865-4949-89a3-2e3ee213039d",
   "metadata": {},
   "outputs": [],
   "source": [
    "## we make a directory to contain all the simulation files\n",
    "os.makedirs(out_dir, exist_ok=True)"
   ]
  },
  {
   "cell_type": "code",
   "execution_count": null,
   "id": "4fafbad4-070c-4e42-8ff9-da7db5567786",
   "metadata": {
    "scrolled": true
   },
   "outputs": [],
   "source": [
    "build_mof(node, linker, topos, forcefield, replication, out_dir)"
   ]
  },
  {
   "cell_type": "code",
   "execution_count": null,
   "id": "d3b9c241-67ee-4d16-a92b-6f4168b0de08",
   "metadata": {},
   "outputs": [],
   "source": [
    "## Now the MOF files and parameter files are saved in the out_dir\n",
    "!ls {out_dir}"
   ]
  },
  {
   "cell_type": "code",
   "execution_count": null,
   "id": "d48cdc85-23f4-40c6-b303-832bcacb8916",
   "metadata": {},
   "outputs": [],
   "source": [
    "## Since we need cations, we create the files for cations too\n",
    "## Running in notebook, we supply the cif of cations from the small molecule package"
   ]
  },
  {
   "cell_type": "code",
   "execution_count": null,
   "id": "b39a5ea1-5976-4a07-b7f0-b98a5ec2f711",
   "metadata": {},
   "outputs": [],
   "source": [
    "import shutil\n",
    "shutil.copy(f'../../small_molecule/TMA.cif', '.')\n",
    "!ls ."
   ]
  },
  {
   "cell_type": "code",
   "execution_count": null,
   "id": "1443a6ae-6d0d-4f62-aaaf-eeee8483f3b9",
   "metadata": {},
   "outputs": [],
   "source": [
    "create_mol_file(cation, forcefield, out_dir)"
   ]
  },
  {
   "cell_type": "code",
   "execution_count": null,
   "id": "55259661-9c0e-4280-bcd4-c757da631f44",
   "metadata": {},
   "outputs": [],
   "source": [
    "## Show the generated MOF structure\n",
    "nv.show_file('sow-4c_FeS-2c_B_S/sow-4c_FeS-2c_B_S.cif')"
   ]
  },
  {
   "cell_type": "markdown",
   "id": "6b60cfd6-02cf-4b27-b588-3cdec2589a51",
   "metadata": {},
   "source": [
    "## Structure relaxation"
   ]
  },
  {
   "cell_type": "code",
   "execution_count": null,
   "id": "ea077e7f-ec62-4f85-bd34-b9baf27b36aa",
   "metadata": {},
   "outputs": [],
   "source": [
    "mof = out_dir # the same name\n",
    "n_mol = 16\n",
    "nvt = True\n",
    "npt = False\n",
    "equi_time = 50000\n",
    "temp = 300\n",
    "pressure = 0.0"
   ]
  },
  {
   "cell_type": "code",
   "execution_count": null,
   "id": "26711a80-fd11-4e80-9376-06432c47b4bd",
   "metadata": {},
   "outputs": [],
   "source": [
    "write_equi_params(mof, out_dir, cation)"
   ]
  },
  {
   "cell_type": "code",
   "execution_count": null,
   "id": "8ffc68e2-69cf-4bf5-8006-f55d9b261c28",
   "metadata": {},
   "outputs": [],
   "source": [
    "write_equi_input(mof, out_dir, nvt, npt, cation, n_mol, equi_time, temp, pressure)"
   ]
  },
  {
   "cell_type": "code",
   "execution_count": null,
   "id": "b8daa4d6-b1f1-41a8-95bc-4ecd41ce1b04",
   "metadata": {},
   "outputs": [],
   "source": [
    "lammps_path = os.getenv('LAMMPS_PATH')\n",
    "print(lammps_path)"
   ]
  },
  {
   "cell_type": "code",
   "execution_count": null,
   "id": "30b4a493-49ee-47ed-a851-bf431a643f07",
   "metadata": {},
   "outputs": [],
   "source": [
    "import os\n",
    "import subprocess\n",
    "\n",
    "if lammps_path is not None:\n",
    "    try:\n",
    "        prev_dir = os.getcwd()  # Save the previous directory\n",
    "        os.chdir(out_dir)  # Change to the output directory\n",
    "        if os.path.exists(f'data.emin_{mof}_{cation}'):\n",
    "            print('Minization already done!')\n",
    "        else:\n",
    "            commands = f'{lammps_path} -in in.emin_{mof} -screen none'\n",
    "            subprocess.run(commands, shell=True, check=True)\n",
    "        lmp2cif(mof, cation)\n",
    "    except subprocess.CalledProcessError as e:\n",
    "        print(f\"Error occurred while running LAMMPS: {e}\")\n",
    "    finally:\n",
    "        os.chdir(prev_dir)  # Ensure we return to the original directory\n",
    "else:\n",
    "    print('Missing LAMMPS path. Please set the LAMMPS_PATH environment variable.')\n",
    "\n"
   ]
  },
  {
   "cell_type": "code",
   "execution_count": null,
   "id": "21ab5af9-0191-47e5-ab6f-68bfd1ee12c4",
   "metadata": {},
   "outputs": [],
   "source": [
    "## Show the minimized MOF structure\n",
    "nv.show_file('sow-4c_FeS-2c_B_S/emin_sow-4c_FeS-2c_B_S_TMA.cif')"
   ]
  },
  {
   "cell_type": "markdown",
   "id": "5118de8f-d451-40c2-8070-fee04e5f2013",
   "metadata": {},
   "source": [
    "## We then run the free energy calculation\n",
    "#### may take a long while, submit the job to compute node is recommended."
   ]
  },
  {
   "cell_type": "code",
   "execution_count": null,
   "id": "88c637e9-6bcc-4a64-a84e-170ef1621827",
   "metadata": {},
   "outputs": [],
   "source": [
    "nproc = 4\n",
    "center = 6"
   ]
  },
  {
   "cell_type": "code",
   "execution_count": null,
   "id": "634a5c29-066c-452c-a4be-d98e141b4e2a",
   "metadata": {},
   "outputs": [],
   "source": [
    "## Prepare all the parameter files for free energy calculation"
   ]
  },
  {
   "cell_type": "code",
   "execution_count": null,
   "id": "28b37832-418b-4a2c-9697-db2add8ef968",
   "metadata": {},
   "outputs": [],
   "source": [
    "write_non_bonded_lj(mof, out_dir, cation)\n",
    "write_non_bonded(mof, out_dir, cation)\n",
    "write_bonded(mof,out_dir)\n",
    "write_in_fe(mof, out_dir, cation, center, temp, pressure)"
   ]
  },
  {
   "cell_type": "code",
   "execution_count": null,
   "id": "df134478-bf9e-4c1b-adec-6c1f0aec7108",
   "metadata": {},
   "outputs": [],
   "source": [
    "lammps_path = os.getenv('LAMMPS_PATH')\n",
    "prev_dir = os.getcwd()  # Save the previous directory"
   ]
  },
  {
   "cell_type": "code",
   "execution_count": null,
   "id": "7c571c3f-b01c-4da1-9a8e-f63e56173ae7",
   "metadata": {},
   "outputs": [],
   "source": [
    "## run the simulation in the output folder\n",
    "os.chdir(out_dir)"
   ]
  },
  {
   "cell_type": "code",
   "execution_count": null,
   "id": "16e20c56-2eaf-462d-a33b-2438ceb33b7c",
   "metadata": {
    "scrolled": true
   },
   "outputs": [],
   "source": [
    "b_lam = [0.00000001]#, 0.0001, 0.001, 0.01, 0.025, 0.05, 0.075, 0.1, 0.15, 0.2, 0.25, 0.3, 0.35, 0.4, 0.45, 0.5, 0.55, 0.6, 0.65, 0.7, 0.75, 0.8, 0.85, 0.9, 0.95, 1.0,]  \n",
    "l_lam = [0]#, 0.05, 0.1, 0.15, 0.2, 0.25, 0.3, 0.35, 0.4, 0.45, 0.5, 0.55, 0.6, 0.65, 0.7, 0.75, 0.8, 0.85, 0.9, 0.95, 1.0]\n",
    "q_lam = [0.00000001] #, 0.1, 0.2, 0.3, 0.4, 0.5, 0.6, 0.7, 0.8, 0.9, 1.0,]\n",
    "    \n",
    "try:\n",
    "    sub_dirs = {\n",
    "        \"bonded\": (\"in.BONDED\", b_lam),\n",
    "        \"lj\": (\"in.LJ\", l_lam),\n",
    "        \"q\": (\"in.Q\", q_lam),\n",
    "        \"hr\": (\"in.HR\", None)\n",
    "    }\n",
    "\n",
    "    for sub_dir, (script, lambdas) in sub_dirs.items():\n",
    "        sub_dir_path = os.path.join(os.path.join(prev_dir, out_dir), sub_dir)\n",
    "        if os.path.exists(sub_dir_path):\n",
    "            os.chdir(sub_dir_path)  # Change to the subdirectory\n",
    "            print(f\"Running {script} in {sub_dir_path}\")\n",
    "\n",
    "            if lambdas is not None:\n",
    "                for lam in lambdas:\n",
    "                    if glob.glob(f'*{lam}*lmp'):\n",
    "                        print(f'Completed on {lam}!')\n",
    "                    else:\n",
    "                        command = f'mpirun -np {nproc} {lammps_path} -in {script} -var lambda {lam} -screen none'\n",
    "                        print(f\"Executing: {command}\")\n",
    "                        subprocess.run(command, shell=True, check=True)\n",
    "            else:\n",
    "                    # For \"hr\" (no lambda needed)\n",
    "                if os.path.exists('done.dat'):\n",
    "                    print(f'Completed!')\n",
    "                else:\n",
    "                    command = f'mpirun -np {nproc} {lammps_path} -in {script} -screen none'\n",
    "                    print(f\"Executing: {command}\")\n",
    "                    subprocess.run(command, shell=True, check=True)\n",
    "\n",
    "        else:\n",
    "            print(f\"Skipping {sub_dir}: directory not found.\")\n",
    "finally:\n",
    "    os.chdir(prev_dir)\n",
    "    "
   ]
  },
  {
   "cell_type": "code",
   "execution_count": null,
   "id": "216ddfd9-ecdc-458b-8889-e8f59051ef09",
   "metadata": {},
   "outputs": [],
   "source": []
  },
  {
   "cell_type": "code",
   "execution_count": null,
   "id": "97f1bc00-048c-4b1e-9c49-f930235ebef5",
   "metadata": {},
   "outputs": [],
   "source": []
  }
 ],
 "metadata": {
  "kernelspec": {
   "display_name": "mof-topology",
   "language": "python",
   "name": "mof-topology"
  },
  "language_info": {
   "codemirror_mode": {
    "name": "ipython",
    "version": 3
   },
   "file_extension": ".py",
   "mimetype": "text/x-python",
   "name": "python",
   "nbconvert_exporter": "python",
   "pygments_lexer": "ipython3",
   "version": "3.13.1"
  }
 },
 "nbformat": 4,
 "nbformat_minor": 5
}

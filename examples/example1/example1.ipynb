{
 "cells": [
  {
   "cell_type": "markdown",
   "id": "081e055a-c9b8-4590-9dc3-5a9adc9067c2",
   "metadata": {},
   "source": [
    "# Example 1 -- In_BTB MOF"
   ]
  },
  {
   "cell_type": "code",
   "execution_count": 1,
   "id": "a06a1782-5a54-40c0-985c-15044c4940b1",
   "metadata": {},
   "outputs": [],
   "source": [
    "### Dirty way to import the codes\n",
    "import sys\n",
    "import os\n",
    "import subprocess\n",
    "import glob\n",
    "parent_dir = os.path.abspath('../../')\n",
    "sys.path.append(parent_dir)\n",
    "\n",
    "from build_mof import *\n",
    "from write_mol import *\n",
    "from equilibration import *\n",
    "from free_energy import *\n",
    "from utils import *\n"
   ]
  },
  {
   "cell_type": "code",
   "execution_count": 2,
   "id": "16073292-ab54-4b97-a5f1-8b2ad7689373",
   "metadata": {
    "scrolled": true
   },
   "outputs": [],
   "source": [
    "# Visualization Purpose\n",
    "#!{sys.executable} -m pip install py3Dmol\n",
    "#!{sys.executable} -m pip install nglview\n"
   ]
  },
  {
   "cell_type": "code",
   "execution_count": 3,
   "id": "d1297501-8b74-4f28-8e5d-3e1e0985070e",
   "metadata": {},
   "outputs": [
    {
     "data": {
      "application/vnd.jupyter.widget-view+json": {
       "model_id": "5f12f0c8d5d8488686167dadafc66737",
       "version_major": 2,
       "version_minor": 0
      },
      "text/plain": []
     },
     "metadata": {},
     "output_type": "display_data"
    }
   ],
   "source": [
    "import py3Dmol\n",
    "from ase.io import read\n",
    "from ase.visualize import view\n",
    "\n",
    "import nglview as nv\n",
    "\n",
    "def visualize_cif(cif_file):\n",
    "    atoms = read(cif_file)\n",
    "    view = nv.show_ase(atoms)\n",
    "    view\n",
    "    \n",
    "def visualize_xyz(xyz_file):\n",
    "    with open(xyz_file, 'r') as f:\n",
    "        xyz_data = f.read()\n",
    "\n",
    "    viewer = py3Dmol.view(width=200, height=200)\n",
    "    viewer.addModel(xyz_data, \"xyz\")\n",
    "    viewer.setStyle({\"sphere\": {}})\n",
    "    viewer.zoomTo()\n",
    "    return viewer.show()\n"
   ]
  },
  {
   "cell_type": "code",
   "execution_count": 4,
   "id": "2d2fe839-db17-4886-8760-25fe2771f296",
   "metadata": {},
   "outputs": [
    {
     "name": "stdout",
     "output_type": "stream",
     "text": [
      "3c_BTB.xyz       DMA.cif          \u001b[34mpto-4c_In-3c_BTB\u001b[m\u001b[m\n",
      "4c_In.xyz        example1.ipynb   runtime.log\n"
     ]
    }
   ],
   "source": [
    "# List the linker and nodes\n",
    "!ls"
   ]
  },
  {
   "cell_type": "code",
   "execution_count": 5,
   "id": "b1f43a44-923f-4642-a0bc-f23361f62a63",
   "metadata": {},
   "outputs": [
    {
     "data": {
      "application/3dmoljs_load.v0": "<div id=\"3dmolviewer_1739562592770654\"  style=\"position: relative; width: 200px; height: 200px;\">\n        <p id=\"3dmolwarning_1739562592770654\" style=\"background-color:#ffcccc;color:black\">3Dmol.js failed to load for some reason.  Please check your browser console for error messages.<br></p>\n        </div>\n<script>\n\nvar loadScriptAsync = function(uri){\n  return new Promise((resolve, reject) => {\n    //this is to ignore the existence of requirejs amd\n    var savedexports, savedmodule;\n    if (typeof exports !== 'undefined') savedexports = exports;\n    else exports = {}\n    if (typeof module !== 'undefined') savedmodule = module;\n    else module = {}\n\n    var tag = document.createElement('script');\n    tag.src = uri;\n    tag.async = true;\n    tag.onload = () => {\n        exports = savedexports;\n        module = savedmodule;\n        resolve();\n    };\n  var firstScriptTag = document.getElementsByTagName('script')[0];\n  firstScriptTag.parentNode.insertBefore(tag, firstScriptTag);\n});\n};\n\nif(typeof $3Dmolpromise === 'undefined') {\n$3Dmolpromise = null;\n  $3Dmolpromise = loadScriptAsync('https://cdnjs.cloudflare.com/ajax/libs/3Dmol/2.4.2/3Dmol-min.js');\n}\n\nvar viewer_1739562592770654 = null;\nvar warn = document.getElementById(\"3dmolwarning_1739562592770654\");\nif(warn) {\n    warn.parentNode.removeChild(warn);\n}\n$3Dmolpromise.then(function() {\nviewer_1739562592770654 = $3Dmol.createViewer(document.getElementById(\"3dmolviewer_1739562592770654\"),{backgroundColor:\"white\"});\nviewer_1739562592770654.zoomTo();\n\tviewer_1739562592770654.addModel(\"42\\nBTB_linker\\nC\\t26.1276\\t16.1476\\t65.4288\\t0.0468\\nC\\t25.0048\\t16.6804\\t66.0888\\t-0.1278\\nH\\t24.6252\\t16.1964\\t67.0484\\t0.1121\\nC\\t20.1976\\t24.18\\t66.0988\\t0.0468\\nC\\t20.39\\t22.9068\\t66.5536\\t-0.1278\\nH\\t19.8684\\t22.556\\t67.5048\\t0.1121\\nC\\t20.8748\\t24.5792\\t65.0072\\t-0.1278\\nH\\t20.7892\\t25.6568\\t64.646\\t0.1121\\nC\\t21.666\\t23.7244\\t64.3164\\t-0.1318\\nH\\t22.2276\\t24.0876\\t63.3932\\t0.1078\\nC\\t21.7924\\t22.4448\\t64.7164\\t0.022\\nC\\t21.2124\\t22.056\\t65.8616\\t-0.1318\\nH\\t21.4012\\t21.008\\t66.2688\\t0.1078\\nC\\t22.9792\\t20.5028\\t57.434\\t0.0468\\nC\\t21.9872\\t21.0288\\t58.2172\\t-0.1278\\nH\\t21.0492\\t21.462\\t57.7348\\t0.1121\\nC\\t22.0576\\t21.064\\t59.56\\t-0.1318\\nH\\t21.166\\t21.4312\\t60.168\\t0.1078\\nC\\t23.2112\\t20.6568\\t60.238\\t0.022\\nC\\t24.2592\\t20.2732\\t59.4464\\t-0.1318\\nH\\t25.2688\\t20.0288\\t59.9164\\t0.1078\\nC\\t24.1288\\t20.1724\\t58.0832\\t-0.1278\\nH\\t25.0284\\t19.796\\t57.4928\\t0.1121\\nC\\t26.6124\\t16.7896\\t64.3\\t-0.1278\\nH\\t27.5552\\t16.406\\t63.7868\\t0.1121\\nC\\t25.9496\\t17.9108\\t63.7824\\t-0.1318\\nH\\t26.34\\t18.4188\\t62.8396\\t0.1078\\nC\\t24.8476\\t18.4224\\t64.366\\t0.022\\nC\\t24.392\\t17.8236\\t65.5048\\t-0.1318\\nH\\t23.474\\t18.2384\\t66.0384\\t0.1078\\nC\\t22.6272\\t21.4348\\t63.8732\\t-0.0339\\nC\\t22.5856\\t21.5048\\t62.5168\\t-0.0761\\nH\\t21.9528\\t22.3036\\t62.0064\\t0.1029\\nC\\t23.3044\\t20.6152\\t61.7552\\t-0.0339\\nC\\t23.992\\t19.628\\t62.3912\\t-0.0761\\nH\\t24.5528\\t18.842\\t61.7848\\t0.1029\\nC\\t24.0688\\t19.4964\\t63.7368\\t-0.0339\\nC\\t23.3416\\t20.4292\\t64.4744\\t-0.0761\\nH\\t23.3528\\t20.3384\\t65.6108\\t0.1029\\nX\\t26.6376\\t15.202\\t65.8096\\t0\\nX\\t19.4832\\t24.8988\\t66.6208\\t0\\nX\\t22.8912\\t20.336\\t56.3096\\t0\\n0\\t1\\tA\\n0\\t23\\tA\\n0\\t39\\tS\\n1\\t2\\tS\\n1\\t28\\tA\\n3\\t4\\tA\\n3\\t6\\tA\\n3\\t40\\tS\\n4\\t5\\tS\\n4\\t11\\tA\\n6\\t7\\tS\\n6\\t8\\tA\\n8\\t9\\tS\\n8\\t10\\tA\\n10\\t11\\tA\\n10\\t30\\tS\\n11\\t12\\tS\\n13\\t14\\tA\\n13\\t21\\tA\\n13\\t41\\tS\\n14\\t15\\tS\\n14\\t16\\tA\\n16\\t17\\tS\\n16\\t18\\tA\\n18\\t19\\tA\\n18\\t33\\tS\\n19\\t20\\tS\\n19\\t21\\tA\\n21\\t22\\tS\\n23\\t24\\tS\\n23\\t25\\tA\\n25\\t26\\tS\\n25\\t27\\tA\\n27\\t28\\tA\\n27\\t36\\tS\\n28\\t29\\tS\\n30\\t31\\tA\\n30\\t37\\tA\\n31\\t32\\tS\\n31\\t33\\tA\\n33\\t34\\tA\\n34\\t35\\tS\\n34\\t36\\tA\\n36\\t37\\tA\\n37\\t38\\tS\\n\",\"xyz\");\n\tviewer_1739562592770654.setStyle({\"sphere\": {}});\n\tviewer_1739562592770654.zoomTo();\nviewer_1739562592770654.render();\n});\n</script>",
      "text/html": [
       "<div id=\"3dmolviewer_1739562592770654\"  style=\"position: relative; width: 200px; height: 200px;\">\n",
       "        <p id=\"3dmolwarning_1739562592770654\" style=\"background-color:#ffcccc;color:black\">3Dmol.js failed to load for some reason.  Please check your browser console for error messages.<br></p>\n",
       "        </div>\n",
       "<script>\n",
       "\n",
       "var loadScriptAsync = function(uri){\n",
       "  return new Promise((resolve, reject) => {\n",
       "    //this is to ignore the existence of requirejs amd\n",
       "    var savedexports, savedmodule;\n",
       "    if (typeof exports !== 'undefined') savedexports = exports;\n",
       "    else exports = {}\n",
       "    if (typeof module !== 'undefined') savedmodule = module;\n",
       "    else module = {}\n",
       "\n",
       "    var tag = document.createElement('script');\n",
       "    tag.src = uri;\n",
       "    tag.async = true;\n",
       "    tag.onload = () => {\n",
       "        exports = savedexports;\n",
       "        module = savedmodule;\n",
       "        resolve();\n",
       "    };\n",
       "  var firstScriptTag = document.getElementsByTagName('script')[0];\n",
       "  firstScriptTag.parentNode.insertBefore(tag, firstScriptTag);\n",
       "});\n",
       "};\n",
       "\n",
       "if(typeof $3Dmolpromise === 'undefined') {\n",
       "$3Dmolpromise = null;\n",
       "  $3Dmolpromise = loadScriptAsync('https://cdnjs.cloudflare.com/ajax/libs/3Dmol/2.4.2/3Dmol-min.js');\n",
       "}\n",
       "\n",
       "var viewer_1739562592770654 = null;\n",
       "var warn = document.getElementById(\"3dmolwarning_1739562592770654\");\n",
       "if(warn) {\n",
       "    warn.parentNode.removeChild(warn);\n",
       "}\n",
       "$3Dmolpromise.then(function() {\n",
       "viewer_1739562592770654 = $3Dmol.createViewer(document.getElementById(\"3dmolviewer_1739562592770654\"),{backgroundColor:\"white\"});\n",
       "viewer_1739562592770654.zoomTo();\n",
       "\tviewer_1739562592770654.addModel(\"42\\nBTB_linker\\nC\\t26.1276\\t16.1476\\t65.4288\\t0.0468\\nC\\t25.0048\\t16.6804\\t66.0888\\t-0.1278\\nH\\t24.6252\\t16.1964\\t67.0484\\t0.1121\\nC\\t20.1976\\t24.18\\t66.0988\\t0.0468\\nC\\t20.39\\t22.9068\\t66.5536\\t-0.1278\\nH\\t19.8684\\t22.556\\t67.5048\\t0.1121\\nC\\t20.8748\\t24.5792\\t65.0072\\t-0.1278\\nH\\t20.7892\\t25.6568\\t64.646\\t0.1121\\nC\\t21.666\\t23.7244\\t64.3164\\t-0.1318\\nH\\t22.2276\\t24.0876\\t63.3932\\t0.1078\\nC\\t21.7924\\t22.4448\\t64.7164\\t0.022\\nC\\t21.2124\\t22.056\\t65.8616\\t-0.1318\\nH\\t21.4012\\t21.008\\t66.2688\\t0.1078\\nC\\t22.9792\\t20.5028\\t57.434\\t0.0468\\nC\\t21.9872\\t21.0288\\t58.2172\\t-0.1278\\nH\\t21.0492\\t21.462\\t57.7348\\t0.1121\\nC\\t22.0576\\t21.064\\t59.56\\t-0.1318\\nH\\t21.166\\t21.4312\\t60.168\\t0.1078\\nC\\t23.2112\\t20.6568\\t60.238\\t0.022\\nC\\t24.2592\\t20.2732\\t59.4464\\t-0.1318\\nH\\t25.2688\\t20.0288\\t59.9164\\t0.1078\\nC\\t24.1288\\t20.1724\\t58.0832\\t-0.1278\\nH\\t25.0284\\t19.796\\t57.4928\\t0.1121\\nC\\t26.6124\\t16.7896\\t64.3\\t-0.1278\\nH\\t27.5552\\t16.406\\t63.7868\\t0.1121\\nC\\t25.9496\\t17.9108\\t63.7824\\t-0.1318\\nH\\t26.34\\t18.4188\\t62.8396\\t0.1078\\nC\\t24.8476\\t18.4224\\t64.366\\t0.022\\nC\\t24.392\\t17.8236\\t65.5048\\t-0.1318\\nH\\t23.474\\t18.2384\\t66.0384\\t0.1078\\nC\\t22.6272\\t21.4348\\t63.8732\\t-0.0339\\nC\\t22.5856\\t21.5048\\t62.5168\\t-0.0761\\nH\\t21.9528\\t22.3036\\t62.0064\\t0.1029\\nC\\t23.3044\\t20.6152\\t61.7552\\t-0.0339\\nC\\t23.992\\t19.628\\t62.3912\\t-0.0761\\nH\\t24.5528\\t18.842\\t61.7848\\t0.1029\\nC\\t24.0688\\t19.4964\\t63.7368\\t-0.0339\\nC\\t23.3416\\t20.4292\\t64.4744\\t-0.0761\\nH\\t23.3528\\t20.3384\\t65.6108\\t0.1029\\nX\\t26.6376\\t15.202\\t65.8096\\t0\\nX\\t19.4832\\t24.8988\\t66.6208\\t0\\nX\\t22.8912\\t20.336\\t56.3096\\t0\\n0\\t1\\tA\\n0\\t23\\tA\\n0\\t39\\tS\\n1\\t2\\tS\\n1\\t28\\tA\\n3\\t4\\tA\\n3\\t6\\tA\\n3\\t40\\tS\\n4\\t5\\tS\\n4\\t11\\tA\\n6\\t7\\tS\\n6\\t8\\tA\\n8\\t9\\tS\\n8\\t10\\tA\\n10\\t11\\tA\\n10\\t30\\tS\\n11\\t12\\tS\\n13\\t14\\tA\\n13\\t21\\tA\\n13\\t41\\tS\\n14\\t15\\tS\\n14\\t16\\tA\\n16\\t17\\tS\\n16\\t18\\tA\\n18\\t19\\tA\\n18\\t33\\tS\\n19\\t20\\tS\\n19\\t21\\tA\\n21\\t22\\tS\\n23\\t24\\tS\\n23\\t25\\tA\\n25\\t26\\tS\\n25\\t27\\tA\\n27\\t28\\tA\\n27\\t36\\tS\\n28\\t29\\tS\\n30\\t31\\tA\\n30\\t37\\tA\\n31\\t32\\tS\\n31\\t33\\tA\\n33\\t34\\tA\\n34\\t35\\tS\\n34\\t36\\tA\\n36\\t37\\tA\\n37\\t38\\tS\\n\",\"xyz\");\n",
       "\tviewer_1739562592770654.setStyle({\"sphere\": {}});\n",
       "\tviewer_1739562592770654.zoomTo();\n",
       "viewer_1739562592770654.render();\n",
       "});\n",
       "</script>"
      ]
     },
     "metadata": {},
     "output_type": "display_data"
    }
   ],
   "source": [
    "visualize_xyz('3c_BTB.xyz')"
   ]
  },
  {
   "cell_type": "code",
   "execution_count": 6,
   "id": "411acd08-6d49-48f2-bf64-4c4b8313e68c",
   "metadata": {},
   "outputs": [
    {
     "data": {
      "application/3dmoljs_load.v0": "<div id=\"3dmolviewer_1739562595594548\"  style=\"position: relative; width: 200px; height: 200px;\">\n        <p id=\"3dmolwarning_1739562595594548\" style=\"background-color:#ffcccc;color:black\">3Dmol.js failed to load for some reason.  Please check your browser console for error messages.<br></p>\n        </div>\n<script>\n\nvar loadScriptAsync = function(uri){\n  return new Promise((resolve, reject) => {\n    //this is to ignore the existence of requirejs amd\n    var savedexports, savedmodule;\n    if (typeof exports !== 'undefined') savedexports = exports;\n    else exports = {}\n    if (typeof module !== 'undefined') savedmodule = module;\n    else module = {}\n\n    var tag = document.createElement('script');\n    tag.src = uri;\n    tag.async = true;\n    tag.onload = () => {\n        exports = savedexports;\n        module = savedmodule;\n        resolve();\n    };\n  var firstScriptTag = document.getElementsByTagName('script')[0];\n  firstScriptTag.parentNode.insertBefore(tag, firstScriptTag);\n});\n};\n\nif(typeof $3Dmolpromise === 'undefined') {\n$3Dmolpromise = null;\n  $3Dmolpromise = loadScriptAsync('https://cdnjs.cloudflare.com/ajax/libs/3Dmol/2.4.2/3Dmol-min.js');\n}\n\nvar viewer_1739562595594548 = null;\nvar warn = document.getElementById(\"3dmolwarning_1739562595594548\");\nif(warn) {\n    warn.parentNode.removeChild(warn);\n}\n$3Dmolpromise.then(function() {\nviewer_1739562595594548 = $3Dmol.createViewer(document.getElementById(\"3dmolviewer_1739562595594548\"),{backgroundColor:\"white\"});\nviewer_1739562595594548.zoomTo();\n\tviewer_1739562595594548.addModel(\"17\\nIn_node\\nIn\\t27.84\\t12.6774\\t66.8133\\t0.7344\\nO\\t29.2782\\t10.7478\\t67.2579\\t-0.4924\\nO\\t29.6322\\t12.1677\\t65.6223\\t-0.4924\\nO\\t29.2614\\t13.9602\\t68.1057\\t-0.4924\\nO\\t27.7701\\t12.7206\\t69.102\\t-0.4924\\nO\\t27.7848\\t14.4201\\t65.3724\\t-0.4924\\nO\\t26.2437\\t14.2899\\t66.9315\\t-0.4924\\nO\\t26.2188\\t11.1609\\t67.3533\\t-0.4924\\nO\\t26.6352\\t11.5353\\t65.2401\\t-0.4924\\nC\\t29.9637\\t11.1723\\t66.2961\\t0.5689\\nC\\t28.7187\\t13.5666\\t69.1512\\t0.5689\\nC\\t26.7843\\t14.8767\\t65.9472\\t0.5689\\nC\\t26.0136\\t10.9089\\t66.1491\\t0.5689\\nX\\t30.9318\\t10.6434\\t66.009\\t0.0000\\nX\\t29.0706\\t13.9638\\t70.1601\\t0.0000\\nX\\t26.3208\\t15.8559\\t65.5929\\t0.0000\\nX\\t25.2594\\t10.1061\\t65.8551\\t0.0000\\n\\t0\\t1\\tS\\n\\t0\\t2\\tS\\n\\t0\\t3\\tS\\n\\t0\\t4\\tS\\n\\t0\\t5\\tS\\n\\t0\\t6\\tS\\n\\t0\\t7\\tS\\n\\t0\\t8\\tS\\n\\t1\\t9\\tA\\n\\t2\\t9\\tA\\n\\t3\\t10\\tA\\n\\t4\\t10\\tA\\n\\t5\\t11\\tA\\n\\t6\\t11\\tA\\n\\t7\\t12\\tA\\n\\t8\\t12\\tA\\n\\t9\\t13\\tS\\n\\t10\\t14\\tS\\n\\t11\\t15\\tS\\n\\t12\\t16\\tS\\n\",\"xyz\");\n\tviewer_1739562595594548.setStyle({\"sphere\": {}});\n\tviewer_1739562595594548.zoomTo();\nviewer_1739562595594548.render();\n});\n</script>",
      "text/html": [
       "<div id=\"3dmolviewer_1739562595594548\"  style=\"position: relative; width: 200px; height: 200px;\">\n",
       "        <p id=\"3dmolwarning_1739562595594548\" style=\"background-color:#ffcccc;color:black\">3Dmol.js failed to load for some reason.  Please check your browser console for error messages.<br></p>\n",
       "        </div>\n",
       "<script>\n",
       "\n",
       "var loadScriptAsync = function(uri){\n",
       "  return new Promise((resolve, reject) => {\n",
       "    //this is to ignore the existence of requirejs amd\n",
       "    var savedexports, savedmodule;\n",
       "    if (typeof exports !== 'undefined') savedexports = exports;\n",
       "    else exports = {}\n",
       "    if (typeof module !== 'undefined') savedmodule = module;\n",
       "    else module = {}\n",
       "\n",
       "    var tag = document.createElement('script');\n",
       "    tag.src = uri;\n",
       "    tag.async = true;\n",
       "    tag.onload = () => {\n",
       "        exports = savedexports;\n",
       "        module = savedmodule;\n",
       "        resolve();\n",
       "    };\n",
       "  var firstScriptTag = document.getElementsByTagName('script')[0];\n",
       "  firstScriptTag.parentNode.insertBefore(tag, firstScriptTag);\n",
       "});\n",
       "};\n",
       "\n",
       "if(typeof $3Dmolpromise === 'undefined') {\n",
       "$3Dmolpromise = null;\n",
       "  $3Dmolpromise = loadScriptAsync('https://cdnjs.cloudflare.com/ajax/libs/3Dmol/2.4.2/3Dmol-min.js');\n",
       "}\n",
       "\n",
       "var viewer_1739562595594548 = null;\n",
       "var warn = document.getElementById(\"3dmolwarning_1739562595594548\");\n",
       "if(warn) {\n",
       "    warn.parentNode.removeChild(warn);\n",
       "}\n",
       "$3Dmolpromise.then(function() {\n",
       "viewer_1739562595594548 = $3Dmol.createViewer(document.getElementById(\"3dmolviewer_1739562595594548\"),{backgroundColor:\"white\"});\n",
       "viewer_1739562595594548.zoomTo();\n",
       "\tviewer_1739562595594548.addModel(\"17\\nIn_node\\nIn\\t27.84\\t12.6774\\t66.8133\\t0.7344\\nO\\t29.2782\\t10.7478\\t67.2579\\t-0.4924\\nO\\t29.6322\\t12.1677\\t65.6223\\t-0.4924\\nO\\t29.2614\\t13.9602\\t68.1057\\t-0.4924\\nO\\t27.7701\\t12.7206\\t69.102\\t-0.4924\\nO\\t27.7848\\t14.4201\\t65.3724\\t-0.4924\\nO\\t26.2437\\t14.2899\\t66.9315\\t-0.4924\\nO\\t26.2188\\t11.1609\\t67.3533\\t-0.4924\\nO\\t26.6352\\t11.5353\\t65.2401\\t-0.4924\\nC\\t29.9637\\t11.1723\\t66.2961\\t0.5689\\nC\\t28.7187\\t13.5666\\t69.1512\\t0.5689\\nC\\t26.7843\\t14.8767\\t65.9472\\t0.5689\\nC\\t26.0136\\t10.9089\\t66.1491\\t0.5689\\nX\\t30.9318\\t10.6434\\t66.009\\t0.0000\\nX\\t29.0706\\t13.9638\\t70.1601\\t0.0000\\nX\\t26.3208\\t15.8559\\t65.5929\\t0.0000\\nX\\t25.2594\\t10.1061\\t65.8551\\t0.0000\\n\\t0\\t1\\tS\\n\\t0\\t2\\tS\\n\\t0\\t3\\tS\\n\\t0\\t4\\tS\\n\\t0\\t5\\tS\\n\\t0\\t6\\tS\\n\\t0\\t7\\tS\\n\\t0\\t8\\tS\\n\\t1\\t9\\tA\\n\\t2\\t9\\tA\\n\\t3\\t10\\tA\\n\\t4\\t10\\tA\\n\\t5\\t11\\tA\\n\\t6\\t11\\tA\\n\\t7\\t12\\tA\\n\\t8\\t12\\tA\\n\\t9\\t13\\tS\\n\\t10\\t14\\tS\\n\\t11\\t15\\tS\\n\\t12\\t16\\tS\\n\",\"xyz\");\n",
       "\tviewer_1739562595594548.setStyle({\"sphere\": {}});\n",
       "\tviewer_1739562595594548.zoomTo();\n",
       "viewer_1739562595594548.render();\n",
       "});\n",
       "</script>"
      ]
     },
     "metadata": {},
     "output_type": "display_data"
    }
   ],
   "source": [
    "visualize_xyz('4c_In.xyz')"
   ]
  },
  {
   "cell_type": "markdown",
   "id": "882f812e-03dc-468c-8aeb-9c3c6db9a0b0",
   "metadata": {},
   "source": [
    "### Now we generate MOFs"
   ]
  },
  {
   "cell_type": "code",
   "execution_count": 7,
   "id": "18d803bf-b1ca-42ad-8899-63a209436988",
   "metadata": {},
   "outputs": [],
   "source": [
    "linker = '3c_BTB'\n",
    "node = '4c_In'\n",
    "topos='pto'\n",
    "cation = 'DMA'\n",
    "forcefield = 'UFF'\n",
    "replication = '1x1x1' ## in practice, increase the replication or simply remove this to increase the box\n",
    "\n",
    "out_dir = f'{topos}-{node}-{linker}'"
   ]
  },
  {
   "cell_type": "code",
   "execution_count": 8,
   "id": "e84e11c8-6865-4949-89a3-2e3ee213039d",
   "metadata": {},
   "outputs": [],
   "source": [
    "## we make a directory to contain all the simulation files\n",
    "os.makedirs(out_dir, exist_ok=True)"
   ]
  },
  {
   "cell_type": "code",
   "execution_count": 9,
   "id": "4fafbad4-070c-4e42-8ff9-da7db5567786",
   "metadata": {
    "scrolled": true
   },
   "outputs": [
    {
     "name": "stderr",
     "output_type": "stream",
     "text": [
      ">>> No edge building block for type (np.int64(0), np.int64(1)) in edge_bbs.\n",
      ">>> == Min RMSD of (node type: 0, node bb: 3c_BTB): 2.25E-02\n",
      ">>> Pre-location at node slot 0, (node type: 0, node bb: 3c_BTB), RMSD: 2.25E-02\n",
      ">>> Pre-location at node slot 1, (node type: 0, node bb: 3c_BTB), RMSD: 2.25E-02\n",
      ">>> Pre-location at node slot 2, (node type: 0, node bb: 3c_BTB), RMSD: 2.25E-02\n",
      ">>> Pre-location at node slot 3, (node type: 0, node bb: 3c_BTB), RMSD: 2.25E-02\n",
      ">>> Pre-location at node slot 4, (node type: 0, node bb: 3c_BTB), RMSD: 2.25E-02\n",
      ">>> Pre-location at node slot 5, (node type: 0, node bb: 3c_BTB), RMSD: 2.25E-02\n",
      ">>> Pre-location at node slot 6, (node type: 0, node bb: 3c_BTB), RMSD: 2.25E-02\n",
      ">>> Pre-location at node slot 7, (node type: 0, node bb: 3c_BTB), RMSD: 2.25E-02\n",
      ">>> == Min RMSD of (node type: 1, node bb: 4c_In): 3.94E-01\n",
      ">>> Pre-location at node slot 8, (node type: 1, node bb: 4c_In), RMSD: 3.94E-01\n",
      ">>> Pre-location at node slot 9, (node type: 1, node bb: 4c_In), RMSD: 3.94E-01\n",
      ">>> Pre-location at node slot 10, (node type: 1, node bb: 4c_In), RMSD: 3.94E-01\n",
      ">>> Pre-location at node slot 11, (node type: 1, node bb: 4c_In), RMSD: 3.94E-01\n",
      ">>> Pre-location at node slot 12, (node type: 1, node bb: 4c_In), RMSD: 3.94E-01\n",
      ">>> Pre-location at node slot 13, (node type: 1, node bb: 4c_In), RMSD: 3.94E-01\n",
      ">>> Topology optimization starts.\n"
     ]
    },
    {
     "name": "stdout",
     "output_type": "stream",
     "text": [
      "############### Working on pto ###############\n",
      "Description on the Topology\n",
      "<bound method Topology.check_validity of Topology pto, (3,4)-cn, num edge types: 1>\n"
     ]
    },
    {
     "name": "stderr",
     "output_type": "stream",
     "text": [
      ">>> MESSAGE: CONVERGENCE: RELATIVE REDUCTION OF F <= FACTR*EPSMCH\n",
      ">>> SUCCESS: True\n",
      ">>> ITER: 55\n",
      ">>> OBJ: 0.048\n",
      ">>> Location at node slot 0, (node type: 0, node bb: 3c_BTB), RMSD: 7.25E-03\n",
      ">>> Location at node slot 1, (node type: 0, node bb: 3c_BTB), RMSD: 8.76E-03\n",
      ">>> Location at node slot 2, (node type: 0, node bb: 3c_BTB), RMSD: 6.11E-03\n",
      ">>> Location at node slot 3, (node type: 0, node bb: 3c_BTB), RMSD: 8.06E-03\n",
      ">>> Location at node slot 4, (node type: 0, node bb: 3c_BTB), RMSD: 9.68E-03\n",
      ">>> Location at node slot 5, (node type: 0, node bb: 3c_BTB), RMSD: 8.15E-03\n",
      ">>> Location at node slot 6, (node type: 0, node bb: 3c_BTB), RMSD: 9.02E-04\n",
      ">>> Location at node slot 7, (node type: 0, node bb: 3c_BTB), RMSD: 2.52E-03\n",
      ">>> Location at node slot 8, (node type: 1, node bb: 4c_In), RMSD: 5.12E-01\n",
      ">>> Location at node slot 9, (node type: 1, node bb: 4c_In), RMSD: 2.65E-01\n",
      ">>> Location at node slot 10, (node type: 1, node bb: 4c_In), RMSD: 5.09E-01\n",
      ">>> Location at node slot 11, (node type: 1, node bb: 4c_In), RMSD: 5.13E-01\n",
      ">>> Location at node slot 12, (node type: 1, node bb: 4c_In), RMSD: 2.85E-01\n",
      ">>> Location at node slot 13, (node type: 1, node bb: 4c_In), RMSD: 2.79E-01\n",
      ">>> Start placing edges.\n",
      ">>> Start finding bonds in generated framework.\n",
      ">>> Start finding bonds in building blocks.\n",
      ">>> Start finding bonds between building blocks.\n",
      ">>> Start making Framework instance.\n",
      ">>> Construction of framework done.\n",
      "fatal: not a git repository (or any of the parent directories): .git\n"
     ]
    },
    {
     "name": "stdout",
     "output_type": "stream",
     "text": [
      "Done! Check the cif and data files for further simulation\n"
     ]
    }
   ],
   "source": [
    "build_mof(node, linker, topos, forcefield, replication, out_dir)"
   ]
  },
  {
   "cell_type": "code",
   "execution_count": 10,
   "id": "d3b9c241-67ee-4d16-a92b-6f4168b0de08",
   "metadata": {},
   "outputs": [
    {
     "name": "stdout",
     "output_type": "stream",
     "text": [
      "DMA.txt                              emin_pto-4c_In-3c_BTB_DMA.cif\n",
      "PE_pto-4c_In-3c_BTB.dat              \u001b[34mhr\u001b[m\u001b[m\n",
      "STRAIN_pto-4c_In-3c_BTB.dat          in.DMA\n",
      "VOLUME.dat                           in.emin_pto-4c_In-3c_BTB\n",
      "\u001b[34mbonded\u001b[m\u001b[m                               in.pto-4c_In-3c_BTB\n",
      "bonded_pto-4c_In-3c_BTB.param        \u001b[34mlj\u001b[m\u001b[m\n",
      "data.DMA                             log.deposit\n",
      "data.emin_pto-4c_In-3c_BTB_DMA       log.lammps\n",
      "data.emin_pto-4c_In-3c_BTB_DMA_fe    non_bonded_pto-4c_In-3c_BTB.param\n",
      "data.pto-4c_In-3c_BTB                non_bonded_pto-4c_In-3c_BTB_lj.param\n",
      "data.pto-4c_In-3c_BTB_new            pto-4c_In-3c_BTB.cif\n",
      "emin_pto-4c_In-3c_BTB.param          \u001b[34mq\u001b[m\u001b[m\n"
     ]
    },
    {
     "name": "stderr",
     "output_type": "stream",
     "text": [
      "/Users/jianmingmao/anaconda3/envs/mof-topology/lib/python3.13/pty.py:95: RuntimeWarning: os.fork() was called. os.fork() is incompatible with multithreaded code, and JAX is multithreaded, so this will likely lead to a deadlock.\n",
      "  pid, fd = os.forkpty()\n"
     ]
    }
   ],
   "source": [
    "## Now the MOF files and parameter files are saved in the out_dir\n",
    "!ls {out_dir}"
   ]
  },
  {
   "cell_type": "code",
   "execution_count": 11,
   "id": "d48cdc85-23f4-40c6-b303-832bcacb8916",
   "metadata": {},
   "outputs": [],
   "source": [
    "## Since we need cations, we create the files for cations too\n",
    "## Running in notebook, we supply the cif of cations from the small molecule package"
   ]
  },
  {
   "cell_type": "code",
   "execution_count": 12,
   "id": "b39a5ea1-5976-4a07-b7f0-b98a5ec2f711",
   "metadata": {},
   "outputs": [
    {
     "name": "stdout",
     "output_type": "stream",
     "text": [
      "3c_BTB.xyz       DMA.cif          \u001b[34mpto-4c_In-3c_BTB\u001b[m\u001b[m\n",
      "4c_In.xyz        example1.ipynb   runtime.log\n"
     ]
    }
   ],
   "source": [
    "import shutil\n",
    "shutil.copy(f'../../small_molecule/DMA.cif', '.')\n",
    "!ls ."
   ]
  },
  {
   "cell_type": "code",
   "execution_count": 13,
   "id": "1443a6ae-6d0d-4f62-aaaf-eeee8483f3b9",
   "metadata": {},
   "outputs": [
    {
     "name": "stdout",
     "output_type": "stream",
     "text": [
      "Small molecule file for LAMMPS deposition has been created!\n"
     ]
    },
    {
     "name": "stderr",
     "output_type": "stream",
     "text": [
      "fatal: not a git repository (or any of the parent directories): .git\n"
     ]
    }
   ],
   "source": [
    "create_mol_file(cation, forcefield, out_dir)"
   ]
  },
  {
   "cell_type": "code",
   "execution_count": 14,
   "id": "55259661-9c0e-4280-bcd4-c757da631f44",
   "metadata": {},
   "outputs": [
    {
     "data": {
      "application/vnd.jupyter.widget-view+json": {
       "model_id": "391497964540481986d56dfbe0c57169",
       "version_major": 2,
       "version_minor": 0
      },
      "text/plain": [
       "NGLWidget()"
      ]
     },
     "metadata": {},
     "output_type": "display_data"
    }
   ],
   "source": [
    "## Show the generated MOF structure\n",
    "nv.show_file('pto-4c_In-3c_BTB/pto-4c_In-3c_BTB.cif')"
   ]
  },
  {
   "cell_type": "markdown",
   "id": "6b60cfd6-02cf-4b27-b588-3cdec2589a51",
   "metadata": {},
   "source": [
    "## Structure relaxation"
   ]
  },
  {
   "cell_type": "code",
   "execution_count": 15,
   "id": "ea077e7f-ec62-4f85-bd34-b9baf27b36aa",
   "metadata": {},
   "outputs": [],
   "source": [
    "mof = out_dir # the same name\n",
    "n_mol = 6\n",
    "nvt = True\n",
    "npt = True\n",
    "equi_time = 50000\n",
    "temp = 300\n",
    "pressure = 0.0"
   ]
  },
  {
   "cell_type": "code",
   "execution_count": 16,
   "id": "26711a80-fd11-4e80-9376-06432c47b4bd",
   "metadata": {},
   "outputs": [],
   "source": [
    "write_equi_params(mof, out_dir, cation)"
   ]
  },
  {
   "cell_type": "code",
   "execution_count": 17,
   "id": "8ffc68e2-69cf-4bf5-8006-f55d9b261c28",
   "metadata": {},
   "outputs": [
    {
     "name": "stdout",
     "output_type": "stream",
     "text": [
      "Input for Equilibration has been generated.\n"
     ]
    }
   ],
   "source": [
    "write_equi_input(mof, out_dir, nvt, npt, cation, n_mol, equi_time, temp, pressure)"
   ]
  },
  {
   "cell_type": "code",
   "execution_count": 18,
   "id": "b8daa4d6-b1f1-41a8-95bc-4ecd41ce1b04",
   "metadata": {},
   "outputs": [
    {
     "name": "stdout",
     "output_type": "stream",
     "text": [
      "/Users/jianmingmao/Desktop/mof-topology-prediction/lammps-stable_23Jun2022/src/lmp_mpi\n"
     ]
    }
   ],
   "source": [
    "lammps_path = os.getenv('LAMMPS_PATH')\n",
    "print(lammps_path)"
   ]
  },
  {
   "cell_type": "code",
   "execution_count": 19,
   "id": "30b4a493-49ee-47ed-a851-bf431a643f07",
   "metadata": {},
   "outputs": [
    {
     "name": "stdout",
     "output_type": "stream",
     "text": [
      "Minization already done!\n",
      "Converting emin_pto-4c_In-3c_BTB_DMA to CIF\n"
     ]
    }
   ],
   "source": [
    "import os\n",
    "import subprocess\n",
    "\n",
    "if lammps_path is not None:\n",
    "    try:\n",
    "        prev_dir = os.getcwd()  # Save the previous directory\n",
    "        os.chdir(out_dir)  # Change to the output directory\n",
    "        if os.path.exists(f'data.emin_{mof}_{cation}'):\n",
    "            print('Minization already done!')\n",
    "        else:\n",
    "            commands = f'{lammps_path} -in in.emin_{mof} -screen none'\n",
    "            subprocess.run(commands, shell=True, check=True)\n",
    "        lmp2cif(mof, cation)\n",
    "    except subprocess.CalledProcessError as e:\n",
    "        print(f\"Error occurred while running LAMMPS: {e}\")\n",
    "    finally:\n",
    "        os.chdir(prev_dir)  # Ensure we return to the original directory\n",
    "else:\n",
    "    print('Missing LAMMPS path. Please set the LAMMPS_PATH environment variable.')\n",
    "\n"
   ]
  },
  {
   "cell_type": "code",
   "execution_count": 20,
   "id": "21ab5af9-0191-47e5-ab6f-68bfd1ee12c4",
   "metadata": {},
   "outputs": [
    {
     "data": {
      "application/vnd.jupyter.widget-view+json": {
       "model_id": "868d69056029496088475e779c1633be",
       "version_major": 2,
       "version_minor": 0
      },
      "text/plain": [
       "NGLWidget()"
      ]
     },
     "metadata": {},
     "output_type": "display_data"
    }
   ],
   "source": [
    "## Show the minimized MOF structure\n",
    "nv.show_file('pto-4c_In-3c_BTB/emin_pto-4c_In-3c_BTB_DMA.cif')"
   ]
  },
  {
   "cell_type": "code",
   "execution_count": null,
   "id": "eeab81b1-11e1-49d5-a023-2e08efcdc110",
   "metadata": {},
   "outputs": [],
   "source": [
    "!cat "
   ]
  },
  {
   "cell_type": "markdown",
   "id": "5118de8f-d451-40c2-8070-fee04e5f2013",
   "metadata": {},
   "source": [
    "## We then run the free energy calculation\n",
    "#### may take a long while, submit the job to compute node is recommended."
   ]
  },
  {
   "cell_type": "code",
   "execution_count": null,
   "id": "88c637e9-6bcc-4a64-a84e-170ef1621827",
   "metadata": {},
   "outputs": [],
   "source": [
    "nproc = 4\n",
    "center = 7"
   ]
  },
  {
   "cell_type": "code",
   "execution_count": null,
   "id": "634a5c29-066c-452c-a4be-d98e141b4e2a",
   "metadata": {},
   "outputs": [],
   "source": [
    "## Prepare all the parameter files for free energy calculation"
   ]
  },
  {
   "cell_type": "code",
   "execution_count": null,
   "id": "28b37832-418b-4a2c-9697-db2add8ef968",
   "metadata": {},
   "outputs": [],
   "source": [
    "write_non_bonded_lj(mof, out_dir, cation)\n",
    "write_non_bonded(mof, out_dir, cation)\n",
    "write_bonded(mof,out_dir)\n",
    "write_in_fe(mof, out_dir, cation, center, temp, pressure)"
   ]
  },
  {
   "cell_type": "code",
   "execution_count": null,
   "id": "df134478-bf9e-4c1b-adec-6c1f0aec7108",
   "metadata": {},
   "outputs": [],
   "source": [
    "lammps_path = os.getenv('LAMMPS_PATH')\n",
    "prev_dir = os.getcwd()  # Save the previous directory"
   ]
  },
  {
   "cell_type": "code",
   "execution_count": null,
   "id": "7c571c3f-b01c-4da1-9a8e-f63e56173ae7",
   "metadata": {},
   "outputs": [],
   "source": [
    "## run the simulation in the output folder\n",
    "os.chdir(out_dir)"
   ]
  },
  {
   "cell_type": "code",
   "execution_count": null,
   "id": "16e20c56-2eaf-462d-a33b-2438ceb33b7c",
   "metadata": {
    "scrolled": true
   },
   "outputs": [],
   "source": [
    "b_lam = [0.00000001]#, 0.0001, 0.001, 0.01, 0.025, 0.05, 0.075, 0.1, 0.15, 0.2, 0.25, 0.3, 0.35, 0.4, 0.45, 0.5, 0.55, 0.6, 0.65, 0.7, 0.75, 0.8, 0.85, 0.9, 0.95, 1.0,]  \n",
    "l_lam = [0]#, 0.05, 0.1, 0.15, 0.2, 0.25, 0.3, 0.35, 0.4, 0.45, 0.5, 0.55, 0.6, 0.65, 0.7, 0.75, 0.8, 0.85, 0.9, 0.95, 1.0]\n",
    "q_lam = [0.00000001] #, 0.1, 0.2, 0.3, 0.4, 0.5, 0.6, 0.7, 0.8, 0.9, 1.0,]\n",
    "    \n",
    "try:\n",
    "    sub_dirs = {\n",
    "        \"bonded\": (\"in.BONDED\", b_lam),\n",
    "        \"lj\": (\"in.LJ\", l_lam),\n",
    "        \"q\": (\"in.Q\", q_lam),\n",
    "        \"hr\": (\"in.HR\", None)\n",
    "    }\n",
    "\n",
    "    for sub_dir, (script, lambdas) in sub_dirs.items():\n",
    "        sub_dir_path = os.path.join(os.path.join(prev_dir, out_dir), sub_dir)\n",
    "        if os.path.exists(sub_dir_path):\n",
    "            os.chdir(sub_dir_path)  # Change to the subdirectory\n",
    "            print(f\"Running {script} in {sub_dir_path}\")\n",
    "\n",
    "            if lambdas is not None:\n",
    "                for lam in lambdas:\n",
    "                    if os.path.exists(glob.glob(f'*{lam}*lmp')):\n",
    "                        print(f'Completed on {lam}!')\n",
    "                    else:\n",
    "                        command = f'mpirun -np {nproc} {lammps_path} -in {script} -var lambda {lam} -screen none'\n",
    "                        print(f\"Executing: {command}\")\n",
    "                        subprocess.run(command, shell=True, check=True)\n",
    "            else:\n",
    "                    # For \"hr\" (no lambda needed)\n",
    "                if os.path.exists('done.dat'):\n",
    "                    print(f'Completed!')\n",
    "                else:\n",
    "                    command = f'mpirun -np {nproc} {lammps_path} -in {script} -screen none'\n",
    "                    print(f\"Executing: {command}\")\n",
    "                    subprocess.run(command, shell=True, check=True)\n",
    "\n",
    "        else:\n",
    "            print(f\"Skipping {sub_dir}: directory not found.\")\n",
    "finally:\n",
    "    os.chdir(prev_dir)\n",
    "    "
   ]
  },
  {
   "cell_type": "markdown",
   "id": "63fd242a-0034-45b4-ba46-f754a5702549",
   "metadata": {},
   "source": [
    "## Finally we integrate the results"
   ]
  },
  {
   "cell_type": "markdown",
   "id": "9a3c6f7e-8e64-40a9-b199-b6b5ddb23054",
   "metadata": {},
   "source": [
    "The original paper uses a different error estimation approach (see SI in the paper), while here we use 5-fold block avegraing for the integrand. The statistics are quite comparable in both methods. While in the paper, the tool from https://github.com/ATB-UQ/trapz_errors/tree/master is used to propargate the uncertainties more rigorously considering the truncation error at each interval. In the notebook, the uncertainty propargation here in the notebook produces more optimistic using the following equation for a trapezoidal integration."
   ]
  },
  {
   "attachments": {
    "c37d63fe-1b7b-4f83-88a8-9f9094545ebf.png": {
     "image/png": "[encoded data removed]"
    }
   },
   "cell_type": "markdown",
   "id": "2af3d8c7-7818-41c5-9440-35869278b2c5",
   "metadata": {},
   "source": [
    "<img src=\"attachment:c37d63fe-1b7b-4f83-88a8-9f9094545ebf.png\" width=\"30%\"/>"
   ]
  },
  {
   "cell_type": "code",
   "execution_count": 23,
   "id": "d87d757b-5de3-4b2a-898c-240fb63ec466",
   "metadata": {},
   "outputs": [],
   "source": [
    "import os\n",
    "import glob\n",
    "import numpy as np\n",
    "import matplotlib.pyplot as plt\n",
    "import matplotlib as mpl\n",
    "import scipy.constants as sc\n",
    "import lammpsio\n",
    "from collections import Counter\n"
   ]
  },
  {
   "cell_type": "code",
   "execution_count": 24,
   "id": "d64b533c-b553-46ef-96fd-7cbc2e867fb9",
   "metadata": {},
   "outputs": [],
   "source": [
    "mpl.rcParams['figure.dpi'] = 100"
   ]
  },
  {
   "cell_type": "code",
   "execution_count": 25,
   "id": "d7a17985-421c-4a7f-be18-6b7e6419d973",
   "metadata": {},
   "outputs": [],
   "source": [
    "def block_averaging(arr, num_blocks=5):\n",
    "    n = len(arr)\n",
    "    block_size = n // num_blocks\n",
    "    \n",
    "    means = []\n",
    "    for i in range(num_blocks):\n",
    "        start = i * block_size\n",
    "        end = (i + 1) * block_size\n",
    "        block = arr[start:end]\n",
    "        means.append(np.mean(block))\n",
    "    \n",
    "    mean_of_means = np.mean(means)\n",
    "    std_of_means = np.std(means)\n",
    "    \n",
    "    return mean_of_means, std_of_means\n"
   ]
  },
  {
   "cell_type": "markdown",
   "id": "4bf8f697-8688-4852-ae02-701852bc0d3d",
   "metadata": {},
   "source": []
  },
  {
   "cell_type": "code",
   "execution_count": 26,
   "id": "96e7258e-f2d6-4f4d-9bce-e76049935329",
   "metadata": {},
   "outputs": [],
   "source": [
    "'''\n",
    "Free energies of crystals computed using Einstein crystal with fixed center of mass and differing spring constants\n",
    "https://pubs.aip.org/aip/jcp/article/154/16/164509/317479/Free-energies-of-crystals-computed-using-Einstein\n",
    "'''\n",
    "def einstein(out_dir, force_k, volume_file, T, fu):\n",
    "    kb = sc.value('Boltzmann constant') # kb in SI base units\n",
    "    kb_kcal = sc.value('Boltzmann constant in eV/K') * 23.06054 # kb in kcal / mol K\n",
    "    mu = sc.value('atomic mass constant')\n",
    "    hbar = sc.h / (2 * sc.pi)\n",
    "    Na = sc.value('Avogadro constant') # Avagadro's number\n",
    "    \n",
    "    with open(f'{out_dir}/{volume_file}', 'r') as file:\n",
    "        content = file.read() \n",
    "    parts = content.split(':')\n",
    "    volume = float(parts[1].strip()) \n",
    "    \n",
    "    data = lammpsio.DataFile(f'{out_dir}/data.{out_dir}', atom_style='full')\n",
    "    mol_data = data.read()\n",
    "    type_ids = mol_data.typeid\n",
    "    atom_masses = mol_data.mass\n",
    "    \n",
    "    F_harm = 0.0\n",
    "    total_mass = 0.0\n",
    "    com_correction_data = []\n",
    "\n",
    "    atom_counts = {}\n",
    "    atom_total_masses = {}\n",
    "\n",
    "\n",
    "    \n",
    "    for atom_type, mass in zip(type_ids, atom_masses):\n",
    "        if atom_type in atom_counts:\n",
    "            atom_counts[atom_type] += 1\n",
    "            atom_total_masses[atom_type] += mass\n",
    "        else:\n",
    "            atom_counts[atom_type] = 1\n",
    "            atom_total_masses[atom_type] = mass\n",
    "    \n",
    "    for atom_type in sorted(atom_counts.keys()):\n",
    "        com_correction_data.append((atom_counts[atom_type], atom_total_masses[atom_type], force_k))\n",
    "\n",
    "    for num_type, mass, force_k in com_correction_data:\n",
    "        total_mass += mass            \n",
    "        force_k_SI = force_k * 4184 * (1.0/Na) * (1.0e20) # convert force_k to SI units [J/m^2]\n",
    "        single_mass = mass/num_type\n",
    "        omega = np.sqrt((force_k_SI)/(single_mass*mu)) # frequency in Hz\n",
    "        F_harm += 3 * num_type * kb_kcal * T * np.log((hbar*omega)/(kb*T)) # sum over each atom, the summand in the same within each type, output in kcal/mol\n",
    "    \n",
    "    F_harm = F_harm/fu\n",
    "    \n",
    "    mass_term = 0.0\n",
    "    total_mass_squared = total_mass**2\n",
    "\n",
    "    for num_type, mass, force_k in com_correction_data:\n",
    "        single_mass = mass/num_type\n",
    "        mass_term += (num_type * (single_mass**2))/(total_mass_squared * force_k)\n",
    "\n",
    "    F_cmco = ((1.5 * kb_kcal * T) * np.log((2 * np.pi * kb_kcal * T) * mass_term) + (kb_kcal * T * np.log(1/volume)))/fu \n",
    "    ## we consider the whole MOF cell is a molecule and thus we have 1/volume\n",
    "    \n",
    "    return F_harm, F_cmco"
   ]
  },
  {
   "cell_type": "code",
   "execution_count": 27,
   "id": "216ddfd9-ecdc-458b-8889-e8f59051ef09",
   "metadata": {},
   "outputs": [],
   "source": [
    "def compute_dg(out_dir, part):\n",
    "    if part == 'hr':\n",
    "        forward = np.loadtxt(f'{out_dir}/{part}/forward.dat', comments=('@', '#'))\n",
    "        backward = np.loadtxt(f'{out_dir}/{part}/backward.dat', comments=('@', '#'))\n",
    "\n",
    "        forward_int = np.trapezoid(forward[:,1], forward[:,0])\n",
    "        backward_int = np.trapezoid(backward[:,1], backward[:,0])\n",
    "        integral = (forward_int - backward_int)/2\n",
    "        error_integral = (forward_int + backward_int)/2 # dissipation heat instead\n",
    "\n",
    "        results={'forward': forward_int, 'backward': backward_int, 'ave': integral, 'dissipation': error_integral}\n",
    "        \n",
    "        plt.plot(forward[:,1]/max(forward[:,1]), forward[:,0], color='#3288bd',alpha=0.5, linestyle='--', label='forward')\n",
    "        plt.plot(backward[:,1]/max(backward[:,1]), backward[:,0], color='#5e4fa2',alpha=0.5, linestyle='--', label='backward')\n",
    "        \n",
    "        plt.ylabel(r'$\\partial U/\\partial \\lambda$(kcal/mol/cell)', fontsize=12)\n",
    "        plt.xlabel(r'$\\lambda$', fontsize=12)\n",
    "        plt.tick_params(labelsize=10)\n",
    "        plt.legend()\n",
    "        \n",
    "    else:\n",
    "        results = {'lambda': [], 'du/dλ': [], 'error': []}\n",
    "        for file in glob.glob(f'{out_dir}/{part}/*lmp'):\n",
    "            if os.path.isfile(file):\n",
    "                filename = os.path.basename(file)\n",
    "                lam = float(filename.split('_')[1].split('.lmp')[0])\n",
    "                data = np.loadtxt(file, comments=('@', '#'))\n",
    "                mean, err = block_averaging(data[:,1])\n",
    "                results['lambda'].append(lam)\n",
    "                results['du/dλ'].append(mean)\n",
    "                results['error'].append(err)\n",
    "        \n",
    "        sorted_indices = np.argsort(results['lambda'])\n",
    "        results = {key: np.array(value)[sorted_indices].tolist() for key, value in results.items()}\n",
    "        lambda_values = np.array(results['lambda'])\n",
    "        du_dl_values = np.array(results['du/dλ'])\n",
    "        error_values = np.array(results['error'])\n",
    "    \n",
    "        # Integral calculation using the trapezoidal rule\n",
    "        integral = np.trapezoid(du_dl_values, lambda_values)\n",
    "    \n",
    "        # Error propagation in the integral\n",
    "        # Step size (h) is the difference between consecutive lambda values\n",
    "        h = np.diff(lambda_values)\n",
    "        h = np.diff(lambda_values)\n",
    "        error_integral = 0.5 * np.sqrt(\n",
    "            error_values[0]**2 * h[0]**2 +\n",
    "            error_values[-1]**2 * h[-1]**2 +\n",
    "            np.sum(error_values[1:-1]**2 * (h[:-1] + h[1:])**2)\n",
    "        )\n",
    "    \n",
    "        plt.errorbar(results['lambda'], results['du/dλ'], yerr = results['error'],capsize=5, color='#3288bd', marker='o', linestyle='--', label=part)\n",
    "        plt.ylabel(r'$\\partial U/\\partial \\lambda$(kcal/mol/cell)', fontsize=12)\n",
    "        plt.xlabel(r'$\\lambda$', fontsize=12)\n",
    "        plt.tick_params(labelsize=10)\n",
    "        plt.legend()\n",
    "    \n",
    "    return results, integral, error_integral"
   ]
  },
  {
   "cell_type": "code",
   "execution_count": 28,
   "id": "5821d672-b16c-4d55-9e92-d35dcfba8330",
   "metadata": {},
   "outputs": [],
   "source": [
    "out_dir = 'pto-4c_In-3c_BTB'"
   ]
  },
  {
   "cell_type": "code",
   "execution_count": 29,
   "id": "42fcdebc-6059-42f4-9287-9d7964886633",
   "metadata": {},
   "outputs": [
    {
     "name": "stdout",
     "output_type": "stream",
     "text": [
      "5486.283823060163 0.8138165473785927\n"
     ]
    },
    {
     "data": {
      "image/png": "[encoded data removed]",
      "text/plain": [
       "<Figure size 640x480 with 1 Axes>"
      ]
     },
     "metadata": {},
     "output_type": "display_data"
    }
   ],
   "source": [
    "results_bonded, integral_bonded, error_integral_bonded = compute_dg(out_dir, 'bonded')\n",
    "print(integral_bonded, error_integral_bonded)"
   ]
  },
  {
   "cell_type": "code",
   "execution_count": 30,
   "id": "97f1bc00-048c-4b1e-9c49-f930235ebef5",
   "metadata": {},
   "outputs": [
    {
     "data": {
      "image/png": "[encoded data removed]",
      "text/plain": [
       "<Figure size 640x480 with 1 Axes>"
      ]
     },
     "metadata": {},
     "output_type": "display_data"
    }
   ],
   "source": [
    "results_lj, integral_lj, error_integral_lj  = compute_dg(out_dir, 'lj')"
   ]
  },
  {
   "cell_type": "code",
   "execution_count": 31,
   "id": "6f6e947e-ef64-4a90-bb94-8895b2f0dec7",
   "metadata": {},
   "outputs": [
    {
     "data": {
      "image/png": "[encoded data removed]",
      "text/plain": [
       "<Figure size 640x480 with 1 Axes>"
      ]
     },
     "metadata": {},
     "output_type": "display_data"
    }
   ],
   "source": [
    "results_q, integral_q, error_integral_q = compute_dg(out_dir, 'q')"
   ]
  },
  {
   "cell_type": "code",
   "execution_count": 32,
   "id": "155230dc-ac24-41ed-bd38-13ba02a8ec49",
   "metadata": {},
   "outputs": [
    {
     "data": {
      "image/png": "[encoded data removed]",
      "text/plain": [
       "<Figure size 640x480 with 1 Axes>"
      ]
     },
     "metadata": {},
     "output_type": "display_data"
    }
   ],
   "source": [
    "results_hr, integral_hr, error_integral_hr = compute_dg(out_dir, 'hr')"
   ]
  },
  {
   "cell_type": "code",
   "execution_count": 36,
   "id": "3056f6cb-69ee-4fe9-abfb-bec34b8c16bb",
   "metadata": {},
   "outputs": [],
   "source": [
    "## This outputs the free energy of Einstein crystal and center of mass correction\n",
    "fu = 456 # the number of atoms or formula unit, here is the atom number in this MOF\n",
    "F_harm, F_cor = einstein(out_dir, 10, 'VOLUME.dat', 300, fu)"
   ]
  },
  {
   "cell_type": "code",
   "execution_count": 37,
   "id": "01489ad8-b702-4c40-b74f-6f1ade116b2d",
   "metadata": {},
   "outputs": [],
   "source": [
    "dG = (integral_bonded + integral_lj + integral_q - integral_hr)/fu + F_harm + F_cor\n",
    "dG_err = np.sqrt(error_integral_bonded**2+error_integral_lj**2+error_integral_q**2)/fu\n"
   ]
  },
  {
   "cell_type": "code",
   "execution_count": 38,
   "id": "4b75f236-3647-4c52-95a5-2b50afaa531f",
   "metadata": {},
   "outputs": [
    {
     "name": "stdout",
     "output_type": "stream",
     "text": [
      "The final free energy is 6.726 ± 0.002\n"
     ]
    }
   ],
   "source": [
    "print(f'The final free energy is {dG:.3f} ± {dG_err:.3f}')"
   ]
  },
  {
   "cell_type": "code",
   "execution_count": 39,
   "id": "4ff15cc4-edb0-4f3b-96fb-1c1e27793ac0",
   "metadata": {},
   "outputs": [
    {
     "name": "stdout",
     "output_type": "stream",
     "text": [
      "The results from the paper is 6.95 ± 0.44\n"
     ]
    }
   ],
   "source": [
    "print('The results from the paper is 6.95 ± 0.44')"
   ]
  },
  {
   "cell_type": "code",
   "execution_count": null,
   "id": "3173624e-c699-4e28-bd1c-446666757557",
   "metadata": {},
   "outputs": [],
   "source": []
  }
 ],
 "metadata": {
  "kernelspec": {
   "display_name": "mof-topology",
   "language": "python",
   "name": "mof-topology"
  },
  "language_info": {
   "codemirror_mode": {
    "name": "ipython",
    "version": 3
   },
   "file_extension": ".py",
   "mimetype": "text/x-python",
   "name": "python",
   "nbconvert_exporter": "python",
   "pygments_lexer": "ipython3",
   "version": "3.13.1"
  }
 },
 "nbformat": 4,
 "nbformat_minor": 5
}

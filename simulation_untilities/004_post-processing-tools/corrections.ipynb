{
 "cells": [
  {
   "cell_type": "code",
   "execution_count": 1,
   "id": "2e4e3565",
   "metadata": {},
   "outputs": [],
   "source": [
    "import os\n",
    "import numpy as np\n",
    "import scipy.constants as sc\n"
   ]
  },
  {
   "cell_type": "code",
   "execution_count": 3,
   "id": "fecbaedc",
   "metadata": {},
   "outputs": [],
   "source": [
    "def com_correction(force_k_data,volume,T,fu):\n",
    "    kb = sc.value('Boltzmann constant') # kb in SI base units\n",
    "    kb_kcal = sc.value('Boltzmann constant in eV/K') * 23.06054 # kb in kcal / mol K\n",
    "    mu = sc.value('atomic mass constant')\n",
    "    hbar = sc.value('Planck constant over 2 pi') # hbar in SI base units\n",
    "    Na = sc.value('Avogadro constant') # Avagadro's number\n",
    "    \n",
    "    F_harm = 0.0\n",
    "    natoms = 0\n",
    "    total_mass = 0.0\n",
    "    com_correction_data = []\n",
    "    \n",
    "    for ty, num_type, mass, force_k, msd in force_k_data:\n",
    "            \n",
    "        natoms += num_type\n",
    "\n",
    "        total_mass += mass * num_type\n",
    "        com_correction_data.append((num_type, mass, force_k)) # this is list data used to compute COM correction below\n",
    "                \n",
    "    mass_term = 0.0\n",
    "    total_mass_squared = total_mass**2\n",
    "\n",
    "    for num_type, mass, force_k in com_correction_data:\n",
    "\n",
    "        mass_term += (num_type * (mass**2))/(total_mass_squared * force_k)\n",
    "\n",
    "    F_cmco = (1.5 * kb_kcal * T) * np.log((2 * np.pi * kb_kcal * T) * mass_term)/fu + (kb_kcal * T * np.log(fu/volume))\n",
    "\n",
    "    return F_cmco\n",
    "\n"
   ]
  },
  {
   "cell_type": "code",
   "execution_count": 8,
   "id": "56dcae7a",
   "metadata": {},
   "outputs": [],
   "source": [
    "root_directory = '/project2/andrewferguson/mjianming/project_cation_control-midway3/project_cation_control/cation_screening/TMA/2D/'\n",
    "\n",
    "directories = [d for d in os.listdir(root_directory) if os.path.isdir(os.path.join(root_directory, d)) and not d.startswith('.')]\n",
    "\n",
    "# clear the file first\n",
    "with open(root_directory+'/corrections.dat', 'w') as f1:\n",
    "    f1.truncate(0)  # The file is cleared by truncating it to 0 bytes\n",
    "\n",
    "for dirname in directories:\n",
    "    if not dirname.startswith('.') and (dirname!='integrate_tools') and os.path.isdir(os.path.join(root_directory, dirname)):\n",
    "        directory_path = os.path.join(root_directory, dirname)\n",
    "        with open(directory_path+\"/volume.dat\", 'r') as file:\n",
    "            volume = float(file.read())\n",
    "        with open(directory_path+\"/fu.dat\", 'r') as file:\n",
    "            fu = float(file.read())\n",
    "        T = 300 # K       \n",
    "        force_k_data = np.genfromtxt(directory_path+\"/force_k.dat\", delimiter = '')\n",
    "        A_com = com_correction(force_k_data,volume,T,fu)\n",
    "        A_com = round(A_com, 3)\n",
    "        with open(root_directory+'/corrections.dat','a') as f:\n",
    "            f.write(f'Topology A_com formula_unit \\n')\n",
    "            f.write(f'{dirname} {str(A_com)} {int(fu)} \\n')\n",
    "            \n"
   ]
  },
  {
   "cell_type": "code",
   "execution_count": null,
   "id": "da9c6138",
   "metadata": {},
   "outputs": [],
   "source": []
  }
 ],
 "metadata": {
  "kernelspec": {
   "display_name": "Python 3 (ipykernel)",
   "language": "python",
   "name": "python3"
  },
  "language_info": {
   "codemirror_mode": {
    "name": "ipython",
    "version": 3
   },
   "file_extension": ".py",
   "mimetype": "text/x-python",
   "name": "python",
   "nbconvert_exporter": "python",
   "pygments_lexer": "ipython3",
   "version": "3.9.12"
  }
 },
 "nbformat": 4,
 "nbformat_minor": 5
}

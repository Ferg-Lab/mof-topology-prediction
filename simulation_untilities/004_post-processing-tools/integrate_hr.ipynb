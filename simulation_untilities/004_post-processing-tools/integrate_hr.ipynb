{
 "cells": [
  {
   "cell_type": "code",
   "execution_count": null,
   "id": "225014cd",
   "metadata": {},
   "outputs": [],
   "source": [
    "import numpy as np\n",
    "import sys\n",
    "import os"
   ]
  },
  {
   "cell_type": "code",
   "execution_count": null,
   "id": "4e000f55",
   "metadata": {},
   "outputs": [],
   "source": [
    "def integrate_switching(forward, backward):\n",
    "\n",
    "\t\"\"\"\n",
    "\t\tintegrates the forward and backward switching output \n",
    "\t\tthe lambda value should be axis 1\n",
    "\t\tdH/dlamdba should be axis 0\n",
    "\t\"\"\"\n",
    "\n",
    "\tI_forw = np.trapz(y=forward[:,0], x=forward[:,1])\n",
    "\tI_back = np.trapz(y=backward[:,0], x=backward[:,1])\n",
    "\n",
    "\tQ = -(I_forw + I_back) / 2.0\n",
    "\tW = (I_forw - I_back) / 2.0\n",
    "\n",
    "\treturn W, Q, I_forw, I_back"
   ]
  },
  {
   "cell_type": "code",
   "execution_count": null,
   "id": "b4bf64e4",
   "metadata": {},
   "outputs": [],
   "source": [
    "dirname=\"/home/mjianming/Desktop/cssa\"\n",
    "for fname in os.listdir(dirname):\n",
    "    if os.path.isdir(dirname+fname):\n",
    "        with open(dirname+fname+\"/fu.dat\",\"r\") as f:\n",
    "            fu = int(f.readline())\n",
    "        forward = np.genfromtxt(dirname+fname+\"/3_restraint/forward.dat\", delimiter = '')\n",
    "        backward = np.genfromtxt(dirname+fname+\"/3_restraint/backward.dat\", delimiter = '')\n",
    "        Wi,Qi,Ii_forward,Ii_backward=integrate_switching(forward, backward)\n",
    "        with open (dirname+'output.dat', \"a\") as f1:\n",
    "            f1.write(fname+\" \"+str(Wi/fu)+\" \"+str(Qi/fu)+\" \"+str(Ii_forward/fu)+\" \"+str(Ii_backward/fu)+\"\\n\")\n",
    "        \n",
    "    else:\n",
    "        continue\n",
    "print(fname+\" \"+str(Wi/fu)+\" \"+str(Qi/fu)+\" \"+str(Ii_forward/fu)+\" \"+str(Ii_backward/fu)+\"\\n\")"
   ]
  }
 ],
 "metadata": {
  "kernelspec": {
   "display_name": "Python 3 (ipykernel)",
   "language": "python",
   "name": "python3"
  },
  "language_info": {
   "codemirror_mode": {
    "name": "ipython",
    "version": 3
   },
   "file_extension": ".py",
   "mimetype": "text/x-python",
   "name": "python",
   "nbconvert_exporter": "python",
   "pygments_lexer": "ipython3",
   "version": "3.10.9"
  }
 },
 "nbformat": 4,
 "nbformat_minor": 5
}
